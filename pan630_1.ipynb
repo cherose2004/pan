{
 "cells": [
  {
   "cell_type": "markdown",
   "metadata": {},
   "source": [
    "Visual Studio Code Example"
   ]
  },
  {
   "cell_type": "code",
   "execution_count": null,
   "metadata": {},
   "outputs": [],
   "source": [
    "\n",
    "\n",
    "import matplotlib.pyplot\n",
    "from pylab import plot, show, title, xlabel, ylabel, legend\n",
    "a = 0\n",
    "b = 1\n",
    "sum = 0\n",
    "\n",
    "value_x = []\n",
    "value_y = []\n",
    "import math\n",
    "\n",
    "for i in range(1,20):\n",
    "    sum = sum + 1/(math.factorial(i))\n",
    "    value_x.append(i)\n",
    "    value_y.append(sum)\n",
    "\n",
    "matplotlib.pyplot.plot(value_x, value_y)\n",
    "title('XXX')\n",
    "xlabel('x')\n",
    "ylabel('value')\n",
    "matplotlib.pyplot.show()\n"
   ]
  }
 ],
 "metadata": {
  "language_info": {
   "codemirror_mode": {
    "name": "ipython",
    "version": 3
   },
   "file_extension": ".py",
   "mimetype": "text/x-python",
   "name": "python",
   "nbconvert_exporter": "python",
   "pygments_lexer": "ipython3",
   "version": "3.6.3-final"
  },
  "orig_nbformat": 2,
  "kernelspec": {
   "name": "python36364bit12beae1b4492480e847f94e99d311a03",
   "display_name": "Python 3.6.3 64-bit"
  }
 },
 "nbformat": 4,
 "nbformat_minor": 2
}